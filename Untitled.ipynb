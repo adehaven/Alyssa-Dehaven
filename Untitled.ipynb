{
 "cells": [
  {
   "cell_type": "code",
   "execution_count": 1,
   "id": "9a4d248f",
   "metadata": {},
   "outputs": [],
   "source": [
    "from bs4 import BeautifulSoup\n",
    "import networkx as nx\n",
    "import matplotlib.pyplot as plt\n",
    "from collections import Counter\n",
    "import re\n",
    "\n",
    "def extract_text_from_html(file_path):\n",
    "    with open(file_path, 'r', encoding='utf-8') as file:\n",
    "        soup = BeautifulSoup(file, 'html.parser')\n",
    "        text = soup.get_text()\n",
    "    return text\n",
    "\n",
    "def find_characters(text):\n",
    "    # Example list of characters, replace with actual characters\n",
    "    characters = ['Draco', 'Hermione', 'Harry', 'Lucius', 'Voldemort','Astoria', 'Snape', 'Madeye Moody']\n",
    "    character_mentions = {character: [] for character in characters}\n",
    "    \n",
    "    sentences = re.split(r'(?<!\\w\\.\\w.)(?<![A-Z][a-z]\\.)(?<=\\.|\\?)\\s', text)\n",
    "    for idx, sentence in enumerate(sentences):\n",
    "        for character in characters:\n",
    "            if character in sentence:\n",
    "                character_mentions[character].append(idx)\n",
    "    return character_mentions, sentences\n",
    "\n",
    "def create_cooccurrence_matrix(character_mentions, sentences, window=5):\n",
    "    cooccurrence = Counter()\n",
    "    for character, indices in character_mentions.items():\n",
    "        for idx in indices:\n",
    "            start = max(0, idx - window)\n",
    "            end = min(len(sentences), idx + window + 1)\n",
    "            for other_character, other_indices in character_mentions.items():\n",
    "                if other_character != character:\n",
    "                    if any(i in range(start, end) for i in other_indices):\n",
    "                        cooccurrence[(character, other_character)] += 1\n",
    "    return cooccurrence\n",
    "\n",
    "def plot_network(cooccurrence):\n",
    "    G = nx.Graph()\n",
    "    for (char1, char2), weight in cooccurrence.items():\n",
    "        G.add_edge(char1, char2, weight=weight)\n",
    "\n",
    "    pos = nx.spring_layout(G)\n",
    "    plt.figure(figsize=(12, 12))\n",
    "\n",
    "    nx.draw_networkx_nodes(G, pos, node_size=7000, node_color='skyblue')\n",
    "    nx.draw_networkx_edges(G, pos, width=1.0, alpha=0.5)\n",
    "    nx.draw_networkx_labels(G, pos, font_size=12, font_family='sans-serif')\n",
    "\n",
    "    centrality = nx.degree_centrality(G)\n",
    "    nx.draw_networkx"
   ]
  },
  {
   "cell_type": "code",
   "execution_count": null,
   "id": "491dc909",
   "metadata": {},
   "outputs": [],
   "source": []
  }
 ],
 "metadata": {
  "kernelspec": {
   "display_name": "Python 3 (ipykernel)",
   "language": "python",
   "name": "python3"
  },
  "language_info": {
   "codemirror_mode": {
    "name": "ipython",
    "version": 3
   },
   "file_extension": ".py",
   "mimetype": "text/x-python",
   "name": "python",
   "nbconvert_exporter": "python",
   "pygments_lexer": "ipython3",
   "version": "3.11.6"
  }
 },
 "nbformat": 4,
 "nbformat_minor": 5
}
